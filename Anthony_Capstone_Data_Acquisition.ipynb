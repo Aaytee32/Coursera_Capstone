{
 "cells": [
  {
   "cell_type": "markdown",
   "metadata": {},
   "source": [
    "# **Capstone Project Report**"
   ]
  },
  {
   "cell_type": "markdown",
   "metadata": {},
   "source": [
    "## **Comparing Neighborhood similarities between Toronto, ON and Boston, MA**"
   ]
  },
  {
   "cell_type": "markdown",
   "metadata": {},
   "source": [
    "### By Anthony Oppong-Gyebi"
   ]
  },
  {
   "cell_type": "markdown",
   "metadata": {},
   "source": [
    "### **1. Background and Problem Description**"
   ]
  },
  {
   "cell_type": "markdown",
   "metadata": {},
   "source": [
    "The US, a cosmopolitan country sees many people around the globe travel in and out of it annually. Many of those immigrants rather settle in permanently to start families, businesses as well as on long vacations. Such immigrants preferably would want to situate in states which presents with similar amenities as their original homes, mainly for ease of adjustment to the new environment. For instance, persons travelling from coastal areas will wish to find homes and jobs in places where they can have access to the beaches as well as enjoy sea food, all year round. One major challenge immigrants face choosing neighborhoods which suitably fit their interests and like places where they had migrated from, considering unavailability of comprehensive comparative information for neighborhoods. The aim of this project, therefore, is to highlight the similarities in Toronto and Boston neighborhoods for Toronto, ON residents who intend to travel to Boston, MA and vice versa. This will be addressed segmenting and clustering the neighborhoods using machine learning techniques to compare the two cities."
   ]
  },
  {
   "cell_type": "markdown",
   "metadata": {},
   "source": [
    "### **2. Data Acquisition and Cleaning**"
   ]
  },
  {
   "cell_type": "markdown",
   "metadata": {},
   "source": [
    "2.1 Source\n",
    "The geojson file for Boston neighborhood will be obtained from the link http://bostonopendata-boston.opendata.arcgis.com/datasets/3525b0ee6e6b427f9aab5d0a1d0a1a28_0.geojson and web scraping will be used for the link https://en.wikipedia.org/wiki/List_of_postal_codes_of_Canada:_M to glean the neighborhoods for Toronto.\n",
    "\n",
    "2.2 Data Cleaning\n",
    "\n",
    "The datasets contain extra information that must be gotten rid of to make the needed information clean and easy to work with. The Toronto dataset will be extracted from the borough and neighborhoods in the Canada dataset link above into a new dataframe while the Boston data geojson file will be used to obtain the boroughs and neighborhoods for Boston into another dataframe.\n",
    "\n",
    "2.3 Feature selection\n",
    "\n",
    "The distinct categories of venue locations in the neighborhoods of the two cities will be used to construct the features of the product. The coordinates of each neighborhood, that’s the latitude and longitudes shall be extracted from the datasets and used to obtain the diverse venues in the neighborhoods to bring to bear the similarities. Foursquare API will be used to generate the locations/ amenities within the specified vicinities followed by one-hot encoding to obtain the required features from the distinct categories. A mean of the total number of venues per neighborhood will be determined as representative of the fraction of distinct categories for the neighborhood. K Means clustering will be used to segment the neighborhoods to determine the key similarities between the two cities, Toronto and Boston.\n"
   ]
  }
 ],
 "metadata": {
  "kernelspec": {
   "display_name": "Python 3",
   "language": "python",
   "name": "python3"
  },
  "language_info": {
   "codemirror_mode": {
    "name": "ipython",
    "version": 3
   },
   "file_extension": ".py",
   "mimetype": "text/x-python",
   "name": "python",
   "nbconvert_exporter": "python",
   "pygments_lexer": "ipython3",
   "version": "3.7.3"
  }
 },
 "nbformat": 4,
 "nbformat_minor": 2
}
