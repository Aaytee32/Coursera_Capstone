{
 "cells": [
  {
   "cell_type": "markdown",
   "metadata": {},
   "source": [
    "# **Capstone Project Report**"
   ]
  },
  {
   "cell_type": "markdown",
   "metadata": {},
   "source": [
    "## **Comparing Neighborhood similarities between Toronto, ON and Boston, MA**"
   ]
  },
  {
   "cell_type": "markdown",
   "metadata": {},
   "source": [
    "### By Anthony Oppong-Gyebi"
   ]
  },
  {
   "cell_type": "markdown",
   "metadata": {},
   "source": [
    "### **1. Background and Problem Description**"
   ]
  },
  {
   "cell_type": "markdown",
   "metadata": {},
   "source": [
    "The US, a cosmopolitan country sees many people around the globe travel in and out of it annually. Many of those immigrants rather settle in permanently to start families, businesses as well as on long vacations. Such immigrants preferably would want to situate in states which presents with similar amenities as their original homes, mainly for ease of adjustment to the new environment. For instance, persons travelling from coastal areas will wish to find homes and jobs in places where they can have access to the beaches as well as enjoy sea food, all year round. One major challenge immigrants face choosing neighborhoods which suitably fit their interests and like places where they had migrated from, considering unavailability of comprehensive comparative information for neighborhoods. The aim of this project, therefore, is to highlight the similarities in Toronto and Boston neighborhoods for Toronto, ON residents who intend to travel to Boston, MA and vice versa. This will be addressed segmenting and clustering the neighborhoods using machine learning techniques to compare the two cities."
   ]
  }
 ],
 "metadata": {
  "kernelspec": {
   "display_name": "Python 3",
   "language": "python",
   "name": "python3"
  },
  "language_info": {
   "codemirror_mode": {
    "name": "ipython",
    "version": 3
   },
   "file_extension": ".py",
   "mimetype": "text/x-python",
   "name": "python",
   "nbconvert_exporter": "python",
   "pygments_lexer": "ipython3",
   "version": "3.7.3"
  }
 },
 "nbformat": 4,
 "nbformat_minor": 2
}
