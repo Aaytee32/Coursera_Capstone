{
 "cells": [
  {
   "cell_type": "code",
   "execution_count": 1,
   "metadata": {},
   "outputs": [],
   "source": [
    "import requests\n",
    "from bs4 import BeautifulSoup\n",
    "import pandas as pd\n",
    "\n",
    "# Use SHIFT+TAB keys to popup inplace code help\n",
    "%config IPCompleter.greedy = True\n",
    "\n",
    "# Output multiple statements from one input cell\n",
    "from IPython.core.interactiveshell import InteractiveShell\n",
    "InteractiveShell.ast_node_interactivity = \"all\""
   ]
  },
  {
   "cell_type": "code",
   "execution_count": 2,
   "metadata": {},
   "outputs": [],
   "source": [
    "table_from_top = 1\n",
    "wikipedia_page = 'List_of_postal_codes_of_Canada:_M'\n",
    "trace = False"
   ]
  },
  {
   "cell_type": "code",
   "execution_count": 3,
   "metadata": {},
   "outputs": [],
   "source": [
    "wikipedia_url = 'https://en.wikipedia.org/wiki/{}'.format(wikipedia_page)\n",
    "page = requests.get(wikipedia_url)\n",
    "soup = BeautifulSoup(page.content, 'lxml')\n",
    "tables = soup.find_all('table', {'class': 'wikitable'})\n",
    "table = tables[table_from_top - 1]"
   ]
  },
  {
   "cell_type": "code",
   "execution_count": 4,
   "metadata": {},
   "outputs": [
    {
     "data": {
      "text/plain": [
       "'Postcode'"
      ]
     },
     "execution_count": 4,
     "metadata": {},
     "output_type": "execute_result"
    },
    {
     "data": {
      "text/plain": [
       "'Borough'"
      ]
     },
     "execution_count": 4,
     "metadata": {},
     "output_type": "execute_result"
    },
    {
     "data": {
      "text/plain": [
       "'Neighbourhood'"
      ]
     },
     "execution_count": 4,
     "metadata": {},
     "output_type": "execute_result"
    }
   ],
   "source": [
    "feature_names = []\n",
    "\n",
    "header_row = table.find('tr')\n",
    "for header in header_row.find_all('th'):\n",
    "    feature_name = ' '.join(header.find_all(text=True))\n",
    "    feature_name.replace('\\n', '')\n",
    "    feature_names.append(feature_name)"
   ]
  },
  {
   "cell_type": "code",
   "execution_count": 5,
   "metadata": {},
   "outputs": [],
   "source": [
    "def has_coords(tag):\n",
    "    if tag.has_attr('class'):\n",
    "        if tag['class'][0] == 'latitude' or tag['class'][0] == 'longitude':\n",
    "            return True\n",
    "    return False\n",
    "\n",
    "def get_coords(child):\n",
    "    coords = []\n",
    "    for coord in child.find_all(has_coords):\n",
    "        coords.append(coord.string)\n",
    "    if coords:\n",
    "        if trace:\n",
    "            return 'C = {}'.format(' '.join(coords))\n",
    "        else:\n",
    "            return ' '.join(coords)\n",
    "    else:\n",
    "        return ''\n",
    "\n",
    "samples = []\n",
    "sample_rows = table.find_all('tr')[1:]\n",
    "for sample_row in sample_rows:\n",
    "    features = []\n",
    "    for feature_col in sample_row.find_all('td'):\n",
    "        feature_value = ''\n",
    "        text = feature_col.string\n",
    "        if text:\n",
    "            if trace:\n",
    "                features.append('T = {}'.format(text))\n",
    "            else:\n",
    "                features.append(text)\n",
    "            continue\n",
    "        \n",
    "        for child in feature_col.children:\n",
    "            if child.name == 'span':\n",
    "                if child.has_attr('class'):\n",
    "                    if child['class'] == 'display:none':\n",
    "                        continue\n",
    "                if child.find_all(has_coords):\n",
    "                    feature_value = get_coords(child)\n",
    "                    if feature_value:\n",
    "                        break\n",
    "                    else:\n",
    "                        continue\n",
    "            if child.name == 'sup':\n",
    "                continue\n",
    "            if child.name == 'a':\n",
    "                if child.string[0] == '[':\n",
    "                    continue            \n",
    "            if child.name == 'a':\n",
    "                if trace:\n",
    "                    feature_value = 'A = {}'.format(child.string)\n",
    "                else:\n",
    "                    feature_value = child.string\n",
    "                break\n",
    "            if child.name == 'font':\n",
    "                if trace:\n",
    "                    feature_value = 'F = {}'.format(child.string)\n",
    "                else:\n",
    "                    feature_value = child.string\n",
    "                break\n",
    "            try:\n",
    "                # feature_value = '' for any tags not covered above\n",
    "                content = child.contents\n",
    "            except AttributeError:\n",
    "                # Handle whitespace between child tags, treated as a child string\n",
    "                if child.isspace():\n",
    "                    continue\n",
    "                if trace:\n",
    "                    feature_value = 'E = {}'.format(child)\n",
    "                else:\n",
    "                    feature_value = child\n",
    "                break\n",
    "        features.append(feature_value)\n",
    "    samples.append(dict(zip(feature_names, features)))"
   ]
  },
  {
   "cell_type": "code",
   "execution_count": 7,
   "metadata": {},
   "outputs": [
    {
     "data": {
      "text/html": [
       "<div>\n",
       "<style scoped>\n",
       "    .dataframe tbody tr th:only-of-type {\n",
       "        vertical-align: middle;\n",
       "    }\n",
       "\n",
       "    .dataframe tbody tr th {\n",
       "        vertical-align: top;\n",
       "    }\n",
       "\n",
       "    .dataframe thead th {\n",
       "        text-align: right;\n",
       "    }\n",
       "</style>\n",
       "<table border=\"1\" class=\"dataframe\">\n",
       "  <thead>\n",
       "    <tr style=\"text-align: right;\">\n",
       "      <th></th>\n",
       "      <th>Borough</th>\n",
       "      <th>Neighbourhood</th>\n",
       "      <th>Postcode</th>\n",
       "    </tr>\n",
       "  </thead>\n",
       "  <tbody>\n",
       "    <tr>\n",
       "      <th>0</th>\n",
       "      <td>Not assigned</td>\n",
       "      <td>Not assigned</td>\n",
       "      <td>M1A</td>\n",
       "    </tr>\n",
       "    <tr>\n",
       "      <th>1</th>\n",
       "      <td>Not assigned</td>\n",
       "      <td>Not assigned</td>\n",
       "      <td>M2A</td>\n",
       "    </tr>\n",
       "    <tr>\n",
       "      <th>2</th>\n",
       "      <td>North York</td>\n",
       "      <td>Parkwoods</td>\n",
       "      <td>M3A</td>\n",
       "    </tr>\n",
       "    <tr>\n",
       "      <th>3</th>\n",
       "      <td>North York</td>\n",
       "      <td>Victoria Village</td>\n",
       "      <td>M4A</td>\n",
       "    </tr>\n",
       "    <tr>\n",
       "      <th>4</th>\n",
       "      <td>Downtown Toronto</td>\n",
       "      <td>Harbourfront</td>\n",
       "      <td>M5A</td>\n",
       "    </tr>\n",
       "    <tr>\n",
       "      <th>5</th>\n",
       "      <td>Downtown Toronto</td>\n",
       "      <td>Regent Park</td>\n",
       "      <td>M5A</td>\n",
       "    </tr>\n",
       "    <tr>\n",
       "      <th>6</th>\n",
       "      <td>North York</td>\n",
       "      <td>Lawrence Heights</td>\n",
       "      <td>M6A</td>\n",
       "    </tr>\n",
       "    <tr>\n",
       "      <th>7</th>\n",
       "      <td>North York</td>\n",
       "      <td>Lawrence Manor</td>\n",
       "      <td>M6A</td>\n",
       "    </tr>\n",
       "    <tr>\n",
       "      <th>8</th>\n",
       "      <td>Queen's Park</td>\n",
       "      <td>Not assigned</td>\n",
       "      <td>M7A</td>\n",
       "    </tr>\n",
       "    <tr>\n",
       "      <th>9</th>\n",
       "      <td>Not assigned</td>\n",
       "      <td>Not assigned</td>\n",
       "      <td>M8A</td>\n",
       "    </tr>\n",
       "    <tr>\n",
       "      <th>10</th>\n",
       "      <td>Etobicoke</td>\n",
       "      <td>Islington Avenue</td>\n",
       "      <td>M9A</td>\n",
       "    </tr>\n",
       "    <tr>\n",
       "      <th>11</th>\n",
       "      <td>Scarborough</td>\n",
       "      <td>Rouge</td>\n",
       "      <td>M1B</td>\n",
       "    </tr>\n",
       "  </tbody>\n",
       "</table>\n",
       "</div>"
      ],
      "text/plain": [
       "             Borough   Neighbourhood\\n Postcode\n",
       "0       Not assigned     Not assigned\n",
       "      M1A\n",
       "1       Not assigned     Not assigned\n",
       "      M2A\n",
       "2         North York         Parkwoods      M3A\n",
       "3         North York  Victoria Village      M4A\n",
       "4   Downtown Toronto      Harbourfront      M5A\n",
       "5   Downtown Toronto       Regent Park      M5A\n",
       "6         North York  Lawrence Heights      M6A\n",
       "7         North York    Lawrence Manor      M6A\n",
       "8       Queen's Park     Not assigned\n",
       "      M7A\n",
       "9       Not assigned     Not assigned\n",
       "      M8A\n",
       "10         Etobicoke  Islington Avenue      M9A\n",
       "11       Scarborough             Rouge      M1B"
      ]
     },
     "execution_count": 7,
     "metadata": {},
     "output_type": "execute_result"
    }
   ],
   "source": [
    "df = pd.DataFrame(samples)\n",
    "df.head(12)"
   ]
  },
  {
   "cell_type": "code",
   "execution_count": 8,
   "metadata": {},
   "outputs": [
    {
     "data": {
      "text/plain": [
       "(288, 3)"
      ]
     },
     "execution_count": 8,
     "metadata": {},
     "output_type": "execute_result"
    }
   ],
   "source": [
    "df.shape"
   ]
  },
  {
   "cell_type": "code",
   "execution_count": null,
   "metadata": {},
   "outputs": [],
   "source": []
  }
 ],
 "metadata": {
  "kernelspec": {
   "display_name": "Python 3",
   "language": "python",
   "name": "python3"
  },
  "language_info": {
   "codemirror_mode": {
    "name": "ipython",
    "version": 3
   },
   "file_extension": ".py",
   "mimetype": "text/x-python",
   "name": "python",
   "nbconvert_exporter": "python",
   "pygments_lexer": "ipython3",
   "version": "3.6.3"
  }
 },
 "nbformat": 4,
 "nbformat_minor": 2
}
